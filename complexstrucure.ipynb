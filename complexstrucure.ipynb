{
 "cells": [
  {
   "cell_type": "code",
   "execution_count": 1,
   "id": "89fb7e04",
   "metadata": {},
   "outputs": [],
   "source": [
    "import logging\n",
    "\n",
    "# Configure logging to display messages in the notebook and save to a file.\n",
    "logging.basicConfig(\n",
    "    filename='data_processing.log',\n",
    "    level=logging.ERROR,\n",
    "    format='%(asctime)s - %(levelname)s - %(message)s'\n",
    ")\n"
   ]
  },
  {
   "cell_type": "code",
   "execution_count": 2,
   "id": "650862aa",
   "metadata": {},
   "outputs": [],
   "source": [
    "def process_line(line):\n",
    "    try:\n",
    "        # Split the line by comma (or other delimiter) into parts\n",
    "        parts = line.strip().split(',')\n",
    "\n",
    "        # Ensure that each line has exactly 3 fields (example requirement)\n",
    "        if len(parts) != 3:\n",
    "            raise ValueError(f\"Incorrect number of fields: {len(parts)}. Expected 3.\")\n",
    "\n",
    "        # Parse and process each part\n",
    "        name = parts[0].strip()  # Name (string)\n",
    "        age = int(parts[1].strip())  # Age (integer)\n",
    "        salary = float(parts[2].strip())  # Salary (float)\n",
    "\n",
    "        # Display the processed data in the notebook output\n",
    "        print(f\"Processed: Name={name}, Age={age}, Salary={salary:.2f}\")\n",
    "\n",
    "    except ValueError as ve:\n",
    "        logging.error(f\"Value Error: {ve} | Line: {line.strip()}\")\n",
    "        print(f\"Error processing line: {ve}\")\n",
    "    except Exception as e:\n",
    "        logging.error(f\"Unexpected Error: {e} | Line: {line.strip()}\")\n",
    "        print(f\"Unexpected error: {e}\")\n"
   ]
  },
  {
   "cell_type": "code",
   "execution_count": 3,
   "id": "4d680f3f",
   "metadata": {},
   "outputs": [],
   "source": [
    "def process_file(file_path):\n",
    "    try:\n",
    "        with open(file_path, 'r') as file:\n",
    "            for line_num, line in enumerate(file, start=1):\n",
    "                if not line.strip():\n",
    "                    logging.warning(f\"Empty line encountered at line {line_num}.\")\n",
    "                    print(f\"Warning: Empty line at line {line_num}.\")\n",
    "                    continue  # Skip empty lines\n",
    "\n",
    "                process_line(line)\n",
    "    except FileNotFoundError:\n",
    "        logging.error(f\"File not found: {file_path}\")\n",
    "        print(f\"Error: The file '{file_path}' was not found.\")\n",
    "    except Exception as e:\n",
    "        logging.error(f\"Unexpected Error: {e}\")\n",
    "        print(f\"Unexpected error: {e}\")\n"
   ]
  },
  {
   "cell_type": "code",
   "execution_count": 4,
   "id": "ff10c457",
   "metadata": {},
   "outputs": [
    {
     "name": "stdout",
     "output_type": "stream",
     "text": [
      "Enter the path to the data file: data.txt\n",
      "Error: The file 'data.txt' was not found.\n"
     ]
    }
   ],
   "source": [
    "# Run the function to process a file\n",
    "file_path = input(\"Enter the path to the data file: \")\n",
    "process_file(file_path)\n"
   ]
  },
  {
   "cell_type": "code",
   "execution_count": null,
   "id": "3ae0ef91",
   "metadata": {},
   "outputs": [],
   "source": []
  }
 ],
 "metadata": {
  "kernelspec": {
   "display_name": "Python 3 (ipykernel)",
   "language": "python",
   "name": "python3"
  },
  "language_info": {
   "codemirror_mode": {
    "name": "ipython",
    "version": 3
   },
   "file_extension": ".py",
   "mimetype": "text/x-python",
   "name": "python",
   "nbconvert_exporter": "python",
   "pygments_lexer": "ipython3",
   "version": "3.11.5"
  }
 },
 "nbformat": 4,
 "nbformat_minor": 5
}
