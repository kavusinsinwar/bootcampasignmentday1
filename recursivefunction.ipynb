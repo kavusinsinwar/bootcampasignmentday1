{
 "cells": [
  {
   "cell_type": "code",
   "execution_count": 1,
   "id": "e4ddf172",
   "metadata": {},
   "outputs": [],
   "source": [
    "import os\n",
    "import logging\n",
    "\n",
    "# Configure logging to save logs to a file and print critical issues to the console\n",
    "logging.basicConfig(\n",
    "    filename='directory_size.log',\n",
    "    level=logging.INFO,\n",
    "    format='%(asctime)s - %(levelname)s - %(message)s'\n",
    ")\n"
   ]
  },
  {
   "cell_type": "code",
   "execution_count": 2,
   "id": "4f01443b",
   "metadata": {},
   "outputs": [],
   "source": [
    "def get_directory_size(directory):\n",
    "    \"\"\"Recursively calculates the total size of all files in a directory, including subdirectories.\"\"\"\n",
    "    total_size = 0\n",
    "\n",
    "    try:\n",
    "        # Loop through each entry in the directory\n",
    "        for entry in os.scandir(directory):\n",
    "            if entry.is_file():\n",
    "                try:\n",
    "                    # Accumulate the size of the file\n",
    "                    file_size = entry.stat().st_size\n",
    "                    total_size += file_size\n",
    "                    logging.info(f\"File: {entry.path} | Size: {file_size} bytes\")\n",
    "                except OSError as e:\n",
    "                    logging.error(f\"Error accessing file {entry.path}: {e}\")\n",
    "                    print(f\"Error accessing file: {entry.path} - {e}\")\n",
    "\n",
    "            elif entry.is_dir(follow_symlinks=False):\n",
    "                # Recursively calculate the size of the subdirectory\n",
    "                logging.info(f\"Entering directory: {entry.path}\")\n",
    "                total_size += get_directory_size(entry.path)\n",
    "\n",
    "    except PermissionError as e:\n",
    "        logging.error(f\"Permission denied: {directory} - {e}\")\n",
    "        print(f\"Permission denied: {directory} - {e}\")\n",
    "    except FileNotFoundError as e:\n",
    "        logging.error(f\"Directory not found: {directory} - {e}\")\n",
    "        print(f\"Directory not found: {directory} - {e}\")\n",
    "    except Exception as e:\n",
    "        logging.error(f\"Unexpected error: {e}\")\n",
    "        print(f\"Unexpected error: {e}\")\n",
    "\n",
    "    return total_size\n"
   ]
  },
  {
   "cell_type": "code",
   "execution_count": null,
   "id": "02e632e6",
   "metadata": {},
   "outputs": [],
   "source": [
    "def main():\n",
    "    directory = input(\"Enter the path to the directory: \")\n",
    "\n",
    "    # Calculate the total size of the directory\n",
    "    total_size = get_directory_size(directory)\n",
    "    print(f\"\\nTotal size of '{directory}': {total_size} bytes\")\n",
    "\n",
    "# Run the main function\n",
    "main()\n"
   ]
  },
  {
   "cell_type": "code",
   "execution_count": null,
   "id": "21e124fa",
   "metadata": {},
   "outputs": [],
   "source": []
  }
 ],
 "metadata": {
  "kernelspec": {
   "display_name": "Python 3 (ipykernel)",
   "language": "python",
   "name": "python3"
  },
  "language_info": {
   "codemirror_mode": {
    "name": "ipython",
    "version": 3
   },
   "file_extension": ".py",
   "mimetype": "text/x-python",
   "name": "python",
   "nbconvert_exporter": "python",
   "pygments_lexer": "ipython3",
   "version": "3.11.5"
  }
 },
 "nbformat": 4,
 "nbformat_minor": 5
}
