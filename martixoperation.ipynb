{
 "cells": [
  {
   "cell_type": "code",
   "execution_count": 1,
   "id": "64b91726",
   "metadata": {},
   "outputs": [],
   "source": [
    "import logging\n",
    "\n",
    "# Configure logging to output errors to both a log file and the console.\n",
    "logging.basicConfig(filename='matrix_operations.log', \n",
    "                    level=logging.ERROR, \n",
    "                    format='%(asctime)s - %(levelname)s - %(message)s')\n"
   ]
  },
  {
   "cell_type": "code",
   "execution_count": 2,
   "id": "2908854f",
   "metadata": {},
   "outputs": [],
   "source": [
    "def add_matrices(matrix1, matrix2):\n",
    "    try:\n",
    "        if not matrix1 or not matrix2:\n",
    "            raise ValueError(\"Matrices must not be empty.\")\n",
    "        if len(matrix1) != len(matrix2) or len(matrix1[0]) != len(matrix2[0]):\n",
    "            raise ValueError(\"Matrices must have the same dimensions for addition.\")\n",
    "\n",
    "        result = [[matrix1[i][j] + matrix2[i][j] for j in range(len(matrix1[0]))] \n",
    "                  for i in range(len(matrix1))]\n",
    "        return result\n",
    "    except Exception as e:\n",
    "        logging.error(f\"Addition Error: {e}\")\n",
    "        raise\n",
    "\n",
    "def subtract_matrices(matrix1, matrix2):\n",
    "    try:\n",
    "        if not matrix1 or not matrix2:\n",
    "            raise ValueError(\"Matrices must not be empty.\")\n",
    "        if len(matrix1) != len(matrix2) or len(matrix1[0]) != len(matrix2[0]):\n",
    "            raise ValueError(\"Matrices must have the same dimensions for subtraction.\")\n",
    "\n",
    "        result = [[matrix1[i][j] - matrix2[i][j] for j in range(len(matrix1[0]))] \n",
    "                  for i in range(len(matrix1))]\n",
    "        return result\n",
    "    except Exception as e:\n",
    "        logging.error(f\"Subtraction Error: {e}\")\n",
    "        raise\n",
    "\n",
    "def multiply_matrices(matrix1, matrix2):\n",
    "    try:\n",
    "        if not matrix1 or not matrix2:\n",
    "            raise ValueError(\"Matrices must not be empty.\")\n",
    "        if len(matrix1[0]) != len(matrix2):\n",
    "            raise ValueError(\"Number of columns in matrix1 must equal the number of rows in matrix2.\")\n",
    "\n",
    "        result = [[sum(matrix1[i][k] * matrix2[k][j] for k in range(len(matrix2))) \n",
    "                   for j in range(len(matrix2[0]))] \n",
    "                  for i in range(len(matrix1))]\n",
    "        return result\n",
    "    except Exception as e:\n",
    "        logging.error(f\"Multiplication Error: {e}\")\n",
    "        raise\n"
   ]
  },
  {
   "cell_type": "code",
   "execution_count": 3,
   "id": "8b4c2acd",
   "metadata": {},
   "outputs": [],
   "source": [
    "def get_matrix_input():\n",
    "    try:\n",
    "        rows = int(input(\"Enter the number of rows: \"))\n",
    "        cols = int(input(\"Enter the number of columns: \"))\n",
    "        matrix = []\n",
    "\n",
    "        print(f\"Enter the elements of the matrix ({rows}x{cols}):\")\n",
    "        for i in range(rows):\n",
    "            row = list(map(float, input(f\"Enter row {i + 1}: \").split()))\n",
    "            if len(row) != cols:\n",
    "                raise ValueError(f\"Each row must have exactly {cols} elements.\")\n",
    "            matrix.append(row)\n",
    "\n",
    "        return matrix\n",
    "    except ValueError as e:\n",
    "        logging.error(f\"Input Error: {e}\")\n",
    "        print(f\"Invalid input: {e}\")\n",
    "        raise\n"
   ]
  },
  {
   "cell_type": "code",
   "execution_count": 4,
   "id": "d0c27e01",
   "metadata": {},
   "outputs": [],
   "source": [
    "def main():\n",
    "    try:\n",
    "        print(\"Enter the first matrix:\")\n",
    "        matrix1 = get_matrix_input()\n",
    "        print(\"Enter the second matrix:\")\n",
    "        matrix2 = get_matrix_input()\n",
    "\n",
    "        print(\"\\nSelect an operation:\")\n",
    "        print(\"1. Addition\")\n",
    "        print(\"2. Subtraction\")\n",
    "        print(\"3. Multiplication\")\n",
    "        choice = int(input(\"Enter your choice (1/2/3): \"))\n",
    "\n",
    "        if choice == 1:\n",
    "            result = add_matrices(matrix1, matrix2)\n",
    "            print(\"Result of Addition:\")\n",
    "        elif choice == 2:\n",
    "            result = subtract_matrices(matrix1, matrix2)\n",
    "            print(\"Result of Subtraction:\")\n",
    "        elif choice == 3:\n",
    "            result = multiply_matrices(matrix1, matrix2)\n",
    "            print(\"Result of Multiplication:\")\n",
    "        else:\n",
    "            raise ValueError(\"Invalid choice. Please select 1, 2, or 3.\")\n",
    "\n",
    "        for row in result:\n",
    "            print(row)\n",
    "\n",
    "    except Exception as e:\n",
    "        print(f\"An error occurred: {e}\")\n"
   ]
  },
  {
   "cell_type": "code",
   "execution_count": 8,
   "id": "013f1b50",
   "metadata": {},
   "outputs": [
    {
     "name": "stdout",
     "output_type": "stream",
     "text": [
      "Enter the first matrix:\n",
      "Enter the number of rows: 2\n",
      "Enter the number of columns: 2\n",
      "Enter the elements of the matrix (2x2):\n",
      "Enter row 1: 23 23\n",
      "Enter row 2: 23 23\n",
      "Enter the second matrix:\n",
      "Enter the number of rows: 1\n",
      "Enter the number of columns: 1\n",
      "Enter the elements of the matrix (1x1):\n",
      "Enter row 1: 1\n",
      "\n",
      "Select an operation:\n",
      "1. Addition\n",
      "2. Subtraction\n",
      "3. Multiplication\n",
      "Enter your choice (1/2/3): 22\n",
      "An error occurred: Invalid choice. Please select 1, 2, or 3.\n"
     ]
    }
   ],
   "source": [
    "# Run the main function\n",
    "main()\n"
   ]
  },
  {
   "cell_type": "markdown",
   "id": "a7c1e6ec",
   "metadata": {},
   "source": []
  }
 ],
 "metadata": {
  "kernelspec": {
   "display_name": "Python 3 (ipykernel)",
   "language": "python",
   "name": "python3"
  },
  "language_info": {
   "codemirror_mode": {
    "name": "ipython",
    "version": 3
   },
   "file_extension": ".py",
   "mimetype": "text/x-python",
   "name": "python",
   "nbconvert_exporter": "python",
   "pygments_lexer": "ipython3",
   "version": "3.11.5"
  }
 },
 "nbformat": 4,
 "nbformat_minor": 5
}
